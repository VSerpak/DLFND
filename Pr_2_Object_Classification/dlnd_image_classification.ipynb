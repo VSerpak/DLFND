{
 "cells": [
  {
   "cell_type": "markdown",
   "metadata": {
    "collapsed": true,
    "deletable": true,
    "editable": true
   },
   "source": [
    "# Image Classification\n",
    "In this project, you'll classify images from the [CIFAR-10 dataset](https://www.cs.toronto.edu/~kriz/cifar.html).  The dataset consists of airplanes, dogs, cats, and other objects. You'll preprocess the images, then train a convolutional neural network on all the samples. The images need to be normalized and the labels need to be one-hot encoded.  You'll get to apply what you learned and build a convolutional, max pooling, dropout, and fully connected layers.  At the end, you'll get to see your neural network's predictions on the sample images.\n",
    "## Get the Data\n",
    "Run the following cell to download the [CIFAR-10 dataset for python](https://www.cs.toronto.edu/~kriz/cifar-10-python.tar.gz)."
   ]
  },
  {
   "cell_type": "code",
   "execution_count": 1,
   "metadata": {
    "collapsed": false,
    "deletable": true,
    "editable": true
   },
   "outputs": [
    {
     "name": "stdout",
     "output_type": "stream",
     "text": [
      "All files found!\n"
     ]
    }
   ],
   "source": [
    "\"\"\"\n",
    "DON'T MODIFY ANYTHING IN THIS CELL THAT IS BELOW THIS LINE\n",
    "\"\"\"\n",
    "from urllib.request import urlretrieve\n",
    "from os.path import isfile, isdir\n",
    "from tqdm import tqdm\n",
    "import problem_unittests as tests\n",
    "import tarfile\n",
    "\n",
    "cifar10_dataset_folder_path = 'cifar-10-batches-py'\n",
    "\n",
    "class DLProgress(tqdm):\n",
    "    last_block = 0\n",
    "\n",
    "    def hook(self, block_num=1, block_size=1, total_size=None):\n",
    "        self.total = total_size\n",
    "        self.update((block_num - self.last_block) * block_size)\n",
    "        self.last_block = block_num\n",
    "\n",
    "if not isfile('cifar-10-python.tar.gz'):\n",
    "    with DLProgress(unit='B', unit_scale=True, miniters=1, desc='CIFAR-10 Dataset') as pbar:\n",
    "        urlretrieve(\n",
    "            'https://www.cs.toronto.edu/~kriz/cifar-10-python.tar.gz',\n",
    "            'cifar-10-python.tar.gz',\n",
    "            pbar.hook)\n",
    "\n",
    "if not isdir(cifar10_dataset_folder_path):\n",
    "    with tarfile.open('cifar-10-python.tar.gz') as tar:\n",
    "        tar.extractall()\n",
    "        tar.close()\n",
    "\n",
    "\n",
    "tests.test_folder_path(cifar10_dataset_folder_path)"
   ]
  },
  {
   "cell_type": "markdown",
   "metadata": {
    "deletable": true,
    "editable": true
   },
   "source": [
    "## Explore the Data\n",
    "The dataset is broken into batches to prevent your machine from running out of memory.  The CIFAR-10 dataset consists of 5 batches, named `data_batch_1`, `data_batch_2`, etc.. Each batch contains the labels and images that are one of the following:\n",
    "* airplane\n",
    "* automobile\n",
    "* bird\n",
    "* cat\n",
    "* deer\n",
    "* dog\n",
    "* frog\n",
    "* horse\n",
    "* ship\n",
    "* truck\n",
    "\n",
    "Understanding a dataset is part of making predictions on the data.  Play around with the code cell below by changing the `batch_id` and `sample_id`. The `batch_id` is the id for a batch (1-5). The `sample_id` is the id for a image and label pair in the batch.\n",
    "\n",
    "Ask yourself \"What are all possible labels?\", \"What is the range of values for the image data?\", \"Are the labels in order or random?\".  Answers to questions like these will help you preprocess the data and end up with better predictions."
   ]
  },
  {
   "cell_type": "code",
   "execution_count": 22,
   "metadata": {
    "collapsed": false,
    "deletable": true,
    "editable": true
   },
   "outputs": [
    {
     "name": "stdout",
     "output_type": "stream",
     "text": [
      "\n",
      "Stats of batch 1:\n",
      "Samples: 10000\n",
      "Label Counts: {0: 1005, 1: 974, 2: 1032, 3: 1016, 4: 999, 5: 937, 6: 1030, 7: 1001, 8: 1025, 9: 981}\n",
      "First 20 Labels: [6, 9, 9, 4, 1, 1, 2, 7, 8, 3, 4, 7, 7, 2, 9, 9, 9, 3, 2, 6]\n",
      "\n",
      "Example of Image 65:\n",
      "Image - Min Value: 11 Max Value: 255\n",
      "Image - Shape: (32, 32, 3)\n",
      "Label - Label Id: 1 Name: automobile\n"
     ]
    },
    {
     "data": {
      "image/png": "[encoded data removed]",
      "text/plain": [
       "<matplotlib.figure.Figure at 0x26c101f39e8>"
      ]
     },
     "metadata": {
      "image/png": {
       "height": 250,
       "width": 253
      }
     },
     "output_type": "display_data"
    }
   ],
   "source": [
    "%matplotlib inline\n",
    "%config InlineBackend.figure_format = 'retina'\n",
    "\n",
    "import helper\n",
    "import numpy as np\n",
    "\n",
    "# Explore the dataset\n",
    "batch_id = 1\n",
    "sample_id = 65\n",
    "helper.display_stats(cifar10_dataset_folder_path, batch_id, sample_id)"
   ]
  },
  {
   "cell_type": "code",
   "execution_count": 23,
   "metadata": {
    "collapsed": false
   },
   "outputs": [
    {
     "name": "stdout",
     "output_type": "stream",
     "text": [
      "\n",
      "Stats of batch 2:\n",
      "Samples: 10000\n",
      "Label Counts: {0: 984, 1: 1007, 2: 1010, 3: 995, 4: 1010, 5: 988, 6: 1008, 7: 1026, 8: 987, 9: 985}\n",
      "First 20 Labels: [1, 6, 6, 8, 8, 3, 4, 6, 0, 6, 0, 3, 6, 6, 5, 4, 8, 3, 2, 6]\n",
      "\n",
      "Example of Image 135:\n",
      "Image - Min Value: 1 Max Value: 251\n",
      "Image - Shape: (32, 32, 3)\n",
      "Label - Label Id: 3 Name: cat\n"
     ]
    },
    {
     "data": {
      "image/png": "[encoded data removed]",
      "text/plain": [
       "<matplotlib.figure.Figure at 0x26c111b8c88>"
      ]
     },
     "metadata": {
      "image/png": {
       "height": 250,
       "width": 253
      }
     },
     "output_type": "display_data"
    }
   ],
   "source": [
    "# Explore the dataset\n",
    "batch_id = 2\n",
    "sample_id = 135\n",
    "helper.display_stats(cifar10_dataset_folder_path, batch_id, sample_id)"
   ]
  },
  {
   "cell_type": "code",
   "execution_count": 24,
   "metadata": {
    "collapsed": false
   },
   "outputs": [
    {
     "name": "stdout",
     "output_type": "stream",
     "text": [
      "\n",
      "Stats of batch 5:\n",
      "Samples: 10000\n",
      "Label Counts: {0: 1014, 1: 1014, 2: 952, 3: 1016, 4: 997, 5: 1025, 6: 980, 7: 977, 8: 1003, 9: 1022}\n",
      "First 20 Labels: [1, 8, 5, 1, 5, 7, 4, 3, 8, 2, 7, 2, 0, 1, 5, 9, 6, 2, 0, 8]\n",
      "\n",
      "Example of Image 650:\n",
      "Image - Min Value: 29 Max Value: 255\n",
      "Image - Shape: (32, 32, 3)\n",
      "Label - Label Id: 4 Name: deer\n"
     ]
    },
    {
     "data": {
      "image/png": "[encoded data removed]",
      "text/plain": [
       "<matplotlib.figure.Figure at 0x26c10f80198>"
      ]
     },
     "metadata": {
      "image/png": {
       "height": 250,
       "width": 253
      }
     },
     "output_type": "display_data"
    }
   ],
   "source": [
    "# Explore the dataset\n",
    "batch_id = 5\n",
    "sample_id = 650\n",
    "helper.display_stats(cifar10_dataset_folder_path, batch_id, sample_id)"
   ]
  },
  {
   "cell_type": "markdown",
   "metadata": {
    "deletable": true,
    "editable": true
   },
   "source": [
    "## Implement Preprocess Functions\n",
    "### Normalize\n",
    "In the cell below, implement the `normalize` function to take in image data, `x`, and return it as a normalized Numpy array. The values should be in the range of 0 to 1, inclusive.  The return object should be the same shape as `x`."
   ]
  },
  {
   "cell_type": "code",
   "execution_count": 25,
   "metadata": {
    "collapsed": false,
    "deletable": true,
    "editable": true
   },
   "outputs": [
    {
     "name": "stdout",
     "output_type": "stream",
     "text": [
      "Tests Passed\n"
     ]
    }
   ],
   "source": [
    "def normalize(x):\n",
    "    \"\"\"\n",
    "    Normalize a list of sample image data in the range of 0 to 1\n",
    "    : x: List of image data.  The image shape is (32, 32, 3)\n",
    "    : return: Numpy array of normalize data\n",
    "    \"\"\"\n",
    "    # TODO: Implement Function\n",
    "#     a = 0\n",
    "#     b = 1\n",
    "#     grayscale_min = 0\n",
    "#     grayscale_max =255\n",
    "#     return a + ( ( (x - grayscale_min)*(b - a) )/( grayscale_max - grayscale_min ) )\n",
    "    grayscale_min = np.min(x)\n",
    "    grayscale_max = np.max(x)\n",
    "    return (x - grayscale_min)/(grayscale_max - grayscale_min)\n",
    "\n",
    "\n",
    "\"\"\"\n",
    "DON'T MODIFY ANYTHING IN THIS CELL THAT IS BELOW THIS LINE\n",
    "\"\"\"\n",
    "tests.test_normalize(normalize)"
   ]
  },
  {
   "cell_type": "markdown",
   "metadata": {
    "deletable": true,
    "editable": true
   },
   "source": [
    "### One-hot encode\n",
    "Just like the previous code cell, you'll be implementing a function for preprocessing.  This time, you'll implement the `one_hot_encode` function. The input, `x`, are a list of labels.  Implement the function to return the list of labels as One-Hot encoded Numpy array.  The possible values for labels are 0 to 9. The one-hot encoding function should return the same encoding for each value between each call to `one_hot_encode`.  Make sure to save the map of encodings outside the function.\n",
    "\n",
    "Hint: Don't reinvent the wheel."
   ]
  },
  {
   "cell_type": "code",
   "execution_count": 32,
   "metadata": {
    "collapsed": false,
    "deletable": true,
    "editable": true
   },
   "outputs": [
    {
     "name": "stdout",
     "output_type": "stream",
     "text": [
      "Tests Passed\n"
     ]
    }
   ],
   "source": [
    "def one_hot_encode(x):\n",
    "    \"\"\"\n",
    "    One hot encode a list of sample labels. Return a one-hot encoded vector for each label.\n",
    "    : x: List of sample Labels\n",
    "    : return: Numpy array of one-hot encoded labels\n",
    "    \"\"\"\n",
    "    # TODO: Implement Function\n",
    "    return np.eye(10)[x]\n",
    "\n",
    "\n",
    "\"\"\"\n",
    "DON'T MODIFY ANYTHING IN THIS CELL THAT IS BELOW THIS LINE\n",
    "\"\"\"\n",
    "tests.test_one_hot_encode(one_hot_encode)"
   ]
  },
  {
   "cell_type": "markdown",
   "metadata": {
    "deletable": true,
    "editable": true
   },
   "source": [
    "### Randomize Data\n",
    "As you saw from exploring the data above, the order of the samples are randomized.  It doesn't hurt to randomize it again, but you don't need to for this dataset."
   ]
  },
  {
   "cell_type": "markdown",
   "metadata": {
    "deletable": true,
    "editable": true
   },
   "source": [
    "## Preprocess all the data and save it\n",
    "Running the code cell below will preprocess all the CIFAR-10 data and save it to file. The code below also uses 10% of the training data for validation."
   ]
  },
  {
   "cell_type": "code",
   "execution_count": 5,
   "metadata": {
    "collapsed": false,
    "deletable": true,
    "editable": true
   },
   "outputs": [],
   "source": [
    "\"\"\"\n",
    "DON'T MODIFY ANYTHING IN THIS CELL\n",
    "\"\"\"\n",
    "# Preprocess Training, Validation, and Testing Data\n",
    "helper.preprocess_and_save_data(cifar10_dataset_folder_path, normalize, one_hot_encode)"
   ]
  },
  {
   "cell_type": "markdown",
   "metadata": {
    "deletable": true,
    "editable": true
   },
   "source": [
    "# Check Point\n",
    "This is your first checkpoint.  If you ever decide to come back to this notebook or have to restart the notebook, you can start from here.  The preprocessed data has been saved to disk."
   ]
  },
  {
   "cell_type": "code",
   "execution_count": 6,
   "metadata": {
    "collapsed": true,
    "deletable": true,
    "editable": true
   },
   "outputs": [],
   "source": [
    "\"\"\"\n",
    "DON'T MODIFY ANYTHING IN THIS CELL\n",
    "\"\"\"\n",
    "import pickle\n",
    "import problem_unittests as tests\n",
    "import helper\n",
    "\n",
    "# Load the Preprocessed Validation data\n",
    "valid_features, valid_labels = pickle.load(open('preprocess_validation.p', mode='rb'))"
   ]
  },
  {
   "cell_type": "markdown",
   "metadata": {
    "deletable": true,
    "editable": true
   },
   "source": [
    "## Build the network\n",
    "For the neural network, you'll build each layer into a function.  Most of the code you've seen has been outside of functions. To test your code more thoroughly, we require that you put each layer in a function.  This allows us to give you better feedback and test for simple mistakes using our unittests before you submit your project.\n",
    "\n",
    "If you're finding it hard to dedicate enough time for this course a week, we've provided a small shortcut to this part of the project. In the next couple of problems, you'll have the option to use [TensorFlow Layers](https://www.tensorflow.org/api_docs/python/tf/layers) or [TensorFlow Layers (contrib)](https://www.tensorflow.org/api_guides/python/contrib.layers) to build each layer, except \"Convolutional & Max Pooling\" layer.  TF Layers is similar to Keras's and TFLearn's abstraction to layers, so it's easy to pickup.\n",
    "\n",
    "If you would like to get the most of this course, try to solve all the problems without TF Layers.  Let's begin!\n",
    "### Input\n",
    "The neural network needs to read the image data, one-hot encoded labels, and dropout keep probability. Implement the following functions\n",
    "* Implement `neural_net_image_input`\n",
    " * Return a [TF Placeholder](https://www.tensorflow.org/api_docs/python/tf/placeholder)\n",
    " * Set the shape using `image_shape` with batch size set to `None`.\n",
    " * Name the TensorFlow placeholder \"x\" using the TensorFlow `name` parameter in the [TF Placeholder](https://www.tensorflow.org/api_docs/python/tf/placeholder).\n",
    "* Implement `neural_net_label_input`\n",
    " * Return a [TF Placeholder](https://www.tensorflow.org/api_docs/python/tf/placeholder)\n",
    " * Set the shape using `n_classes` with batch size set to `None`.\n",
    " * Name the TensorFlow placeholder \"y\" using the TensorFlow `name` parameter in the [TF Placeholder](https://www.tensorflow.org/api_docs/python/tf/placeholder).\n",
    "* Implement `neural_net_keep_prob_input`\n",
    " * Return a [TF Placeholder](https://www.tensorflow.org/api_docs/python/tf/placeholder) for dropout keep probability.\n",
    " * Name the TensorFlow placeholder \"keep_prob\" using the TensorFlow `name` parameter in the [TF Placeholder](https://www.tensorflow.org/api_docs/python/tf/placeholder).\n",
    "\n",
    "These names will be used at the end of the project to load your saved model.\n",
    "\n",
    "Note: `None` for shapes in TensorFlow allow for a dynamic size."
   ]
  },
  {
   "cell_type": "code",
   "execution_count": 7,
   "metadata": {
    "collapsed": false,
    "deletable": true,
    "editable": true
   },
   "outputs": [
    {
     "name": "stdout",
     "output_type": "stream",
     "text": [
      "Image Input Tests Passed.\n",
      "Label Input Tests Passed.\n",
      "Keep Prob Tests Passed.\n"
     ]
    }
   ],
   "source": [
    "import tensorflow as tf\n",
    "\n",
    "def neural_net_image_input(image_shape):\n",
    "    \"\"\"\n",
    "    Return a Tensor for a bach of image input\n",
    "    : image_shape: Shape of the images\n",
    "    : return: Tensor for image input.\n",
    "    \"\"\"\n",
    "    # TODO: Implement Function\n",
    "    return tf.placeholder(tf.float32, [None, *image_shape], name='x')\n",
    "\n",
    "\n",
    "def neural_net_label_input(n_classes):\n",
    "    \"\"\"\n",
    "    Return a Tensor for a batch of label input\n",
    "    : n_classes: Number of classes\n",
    "    : return: Tensor for label input.\n",
    "    \"\"\"\n",
    "    # TODO: Implement Function\n",
    "    return tf.placeholder(tf.float32, [None, n_classes], name='y')\n",
    "\n",
    "\n",
    "def neural_net_keep_prob_input():\n",
    "    \"\"\"\n",
    "    Return a Tensor for keep probability\n",
    "    : return: Tensor for keep probability.\n",
    "    \"\"\"\n",
    "    # TODO: Implement Function\n",
    "    return tf.placeholder(tf.float32, name='keep_prob')\n",
    "\n",
    "\n",
    "\"\"\"\n",
    "DON'T MODIFY ANYTHING IN THIS CELL THAT IS BELOW THIS LINE\n",
    "\"\"\"\n",
    "tf.reset_default_graph()\n",
    "tests.test_nn_image_inputs(neural_net_image_input)\n",
    "tests.test_nn_label_inputs(neural_net_label_input)\n",
    "tests.test_nn_keep_prob_inputs(neural_net_keep_prob_input)"
   ]
  },
  {
   "cell_type": "markdown",
   "metadata": {
    "deletable": true,
    "editable": true
   },
   "source": [
    "### Convolution and Max Pooling Layer\n",
    "Convolution layers have a lot of success with images. For this code cell, you should implement the function `conv2d_maxpool` to apply convolution then max pooling:\n",
    "* Create the weight and bias using `conv_ksize`, `conv_num_outputs` and the shape of `x_tensor`.\n",
    "* Apply a convolution to `x_tensor` using weight and `conv_strides`.\n",
    " * We recommend you use same padding, but you're welcome to use any padding.\n",
    "* Add bias\n",
    "* Add a nonlinear activation to the convolution.\n",
    "* Apply Max Pooling using `pool_ksize` and `pool_strides`.\n",
    " * We recommend you use same padding, but you're welcome to use any padding.\n",
    "\n",
    "Note: You **can't** use [TensorFlow Layers](https://www.tensorflow.org/api_docs/python/tf/layers) or [TensorFlow Layers (contrib)](https://www.tensorflow.org/api_guides/python/contrib.layers) for this layer.  You're free to use any TensorFlow package for all the other layers."
   ]
  },
  {
   "cell_type": "code",
   "execution_count": 8,
   "metadata": {
    "collapsed": false,
    "deletable": true,
    "editable": true
   },
   "outputs": [
    {
     "name": "stdout",
     "output_type": "stream",
     "text": [
      "Tests Passed\n"
     ]
    }
   ],
   "source": [
    "def conv2d_maxpool(x_tensor, conv_num_outputs, conv_ksize, conv_strides, pool_ksize, pool_strides):\n",
    "    \"\"\"\n",
    "    Apply convolution then max pooling to x_tensor\n",
    "    :param x_tensor: TensorFlow Tensor\n",
    "    :param conv_num_outputs: Number of outputs for the convolutional layer\n",
    "    :param conv_strides: Stride 2-D Tuple for convolution\n",
    "    :param pool_ksize: kernal size 2-D Tuple for pool\n",
    "    :param pool_strides: Stride 2-D Tuple for pool\n",
    "    : return: A tensor that represents convolution and max pooling of x_tensor\n",
    "    \"\"\"\n",
    "    # TODO: Implement Function\n",
    "    in_depth = int(x_tensor.shape[3])\n",
    "    out_depth = conv_num_outputs\n",
    "    w_shape = [*conv_ksize, in_depth, out_depth]\n",
    "    w = tf.Variable(tf.random_normal(w_shape, stddev=0.1))\n",
    "    b = tf.Variable(tf.zeros(out_depth))\n",
    "    \n",
    "    conv_strides = [1, *conv_strides, 1]\n",
    "    x = tf.nn.conv2d(x_tensor, w, strides=conv_strides, padding='SAME')\n",
    "    \n",
    "    x = tf.nn.bias_add(x, b)\n",
    "    x = tf.nn.relu(x)\n",
    "    \n",
    "    pool_ksize = [1, *pool_ksize, 1]\n",
    "    pool_strides = [1, *pool_strides, 1]\n",
    "    x = tf.nn.max_pool(x, pool_ksize, pool_strides, padding='SAME')\n",
    "    return x\n",
    "\n",
    "\n",
    "\"\"\"\n",
    "DON'T MODIFY ANYTHING IN THIS CELL THAT IS BELOW THIS LINE\n",
    "\"\"\"\n",
    "tests.test_con_pool(conv2d_maxpool)"
   ]
  },
  {
   "cell_type": "markdown",
   "metadata": {
    "deletable": true,
    "editable": true
   },
   "source": [
    "### Flatten Layer\n",
    "Implement the `flatten` function to change the dimension of `x_tensor` from a 4-D tensor to a 2-D tensor.  The output should be the shape (*Batch Size*, *Flattened Image Size*). You can use [TensorFlow Layers](https://www.tensorflow.org/api_docs/python/tf/layers) or [TensorFlow Layers (contrib)](https://www.tensorflow.org/api_guides/python/contrib.layers) for this layer."
   ]
  },
  {
   "cell_type": "code",
   "execution_count": 9,
   "metadata": {
    "collapsed": false,
    "deletable": true,
    "editable": true
   },
   "outputs": [
    {
     "name": "stdout",
     "output_type": "stream",
     "text": [
      "Tests Passed\n"
     ]
    }
   ],
   "source": [
    "def flatten(x_tensor):\n",
    "    \"\"\"\n",
    "    Flatten x_tensor to (Batch Size, Flattened Image Size)\n",
    "    : x_tensor: A tensor of size (Batch Size, ...), where ... are the image dimensions.\n",
    "    : return: A tensor of size (Batch Size, Flattened Image Size).\n",
    "    \"\"\"\n",
    "    batch_size, *img_size = x_tensor.get_shape().as_list()\n",
    "    img_size = img_size[0] * img_size[1] * img_size[2]\n",
    "    return tf.reshape(x_tensor, [-1, img_size])\n",
    "\n",
    "\n",
    "\"\"\"\n",
    "DON'T MODIFY ANYTHING IN THIS CELL THAT IS BELOW THIS LINE\n",
    "\"\"\"\n",
    "tests.test_flatten(flatten)"
   ]
  },
  {
   "cell_type": "markdown",
   "metadata": {
    "deletable": true,
    "editable": true
   },
   "source": [
    "### Fully-Connected Layer\n",
    "Implement the `fully_conn` function to apply a fully connected layer to `x_tensor` with the shape (*Batch Size*, *num_outputs*). You can use [TensorFlow Layers](https://www.tensorflow.org/api_docs/python/tf/layers) or [TensorFlow Layers (contrib)](https://www.tensorflow.org/api_guides/python/contrib.layers) for this layer."
   ]
  },
  {
   "cell_type": "code",
   "execution_count": 10,
   "metadata": {
    "collapsed": false,
    "deletable": true,
    "editable": true
   },
   "outputs": [
    {
     "name": "stdout",
     "output_type": "stream",
     "text": [
      "Tests Passed\n"
     ]
    }
   ],
   "source": [
    "def fully_conn(x_tensor, num_outputs):\n",
    "    \"\"\"\n",
    "    Apply a fully connected layer to x_tensor using weight and bias\n",
    "    : x_tensor: A 2-D tensor where the first dimension is batch size.\n",
    "    : num_outputs: The number of output that the new tensor should be.\n",
    "    : return: A 2-D tensor where the second dimension is num_outputs.\n",
    "    \"\"\"\n",
    "    # TODO: Implement Function\n",
    "    w_shape = (int(x_tensor.get_shape().as_list()[1]), num_outputs)\n",
    "    w = tf.Variable(tf.random_normal(w_shape, stddev=0.1))\n",
    "    b = tf.Variable(tf.zeros(num_outputs))\n",
    "    x = tf.add(tf.matmul(x_tensor, w), b)\n",
    "    x = tf.nn.relu(x)\n",
    "    return x\n",
    "\n",
    "\n",
    "\"\"\"\n",
    "DON'T MODIFY ANYTHING IN THIS CELL THAT IS BELOW THIS LINE\n",
    "\"\"\"\n",
    "tests.test_fully_conn(fully_conn)"
   ]
  },
  {
   "cell_type": "markdown",
   "metadata": {
    "deletable": true,
    "editable": true
   },
   "source": [
    "### Output Layer\n",
    "Implement the `output` function to apply a fully connected layer to `x_tensor` with the shape (*Batch Size*, *num_outputs*). You can use [TensorFlow Layers](https://www.tensorflow.org/api_docs/python/tf/layers) or [TensorFlow Layers (contrib)](https://www.tensorflow.org/api_guides/python/contrib.layers) for this layer.\n",
    "\n",
    "Note: Activation, softmax, or cross entropy shouldn't be applied to this."
   ]
  },
  {
   "cell_type": "code",
   "execution_count": 11,
   "metadata": {
    "collapsed": false,
    "deletable": true,
    "editable": true
   },
   "outputs": [
    {
     "name": "stdout",
     "output_type": "stream",
     "text": [
      "Tests Passed\n"
     ]
    }
   ],
   "source": [
    "def output(x_tensor, num_outputs):\n",
    "    \"\"\"\n",
    "    Apply a output layer to x_tensor using weight and bias\n",
    "    : x_tensor: A 2-D tensor where the first dimension is batch size.\n",
    "    : num_outputs: The number of output that the new tensor should be.\n",
    "    : return: A 2-D tensor where the second dimension is num_outputs.\n",
    "    \"\"\"\n",
    "    # TODO: Implement Function\n",
    "    w_shape = [int(x_tensor.get_shape().as_list()[1]), num_outputs]\n",
    "    w = tf.Variable(tf.random_normal(w_shape, stddev=0.1))\n",
    "    b = tf.Variable(tf.zeros(num_outputs))\n",
    "    x = tf.add(tf.matmul(x_tensor, w), b)\n",
    "    return x\n",
    "\n",
    "\n",
    "\"\"\"\n",
    "DON'T MODIFY ANYTHING IN THIS CELL THAT IS BELOW THIS LINE\n",
    "\"\"\"\n",
    "tests.test_output(output)"
   ]
  },
  {
   "cell_type": "markdown",
   "metadata": {
    "deletable": true,
    "editable": true
   },
   "source": [
    "### Create Convolutional Model\n",
    "Implement the function `conv_net` to create a convolutional neural network model. The function takes in a batch of images, `x`, and outputs logits.  Use the layers you created above to create this model:\n",
    "\n",
    "* Apply 1, 2, or 3 Convolution and Max Pool layers\n",
    "* Apply a Flatten Layer\n",
    "* Apply 1, 2, or 3 Fully Connected Layers\n",
    "* Apply an Output Layer\n",
    "* Return the output\n",
    "* Apply [TensorFlow's Dropout](https://www.tensorflow.org/api_docs/python/tf/nn/dropout) to one or more layers in the model using `keep_prob`. "
   ]
  },
  {
   "cell_type": "code",
   "execution_count": 12,
   "metadata": {
    "collapsed": false,
    "deletable": true,
    "editable": true
   },
   "outputs": [
    {
     "name": "stdout",
     "output_type": "stream",
     "text": [
      "Neural Network Built!\n"
     ]
    }
   ],
   "source": [
    "def conv_net(x, keep_prob):\n",
    "    \"\"\"\n",
    "    Create a convolutional neural network model\n",
    "    : x: Placeholder tensor that holds image data.\n",
    "    : keep_prob: Placeholder tensor that hold dropout keep probability.\n",
    "    : return: Tensor that represents logits\n",
    "    \"\"\"\n",
    "    # TODO: Apply 1, 2, or 3 Convolution and Max Pool layers\n",
    "    #    Play around with different number of outputs, kernel size and stride\n",
    "    # Function Definition from Above:\n",
    "    #    conv2d_maxpool(x_tensor, conv_num_outputs, conv_ksize, conv_strides, pool_ksize, pool_strides)\n",
    "    x = conv2d_maxpool(x, 32, (3, 3), (1, 1), (2, 2), (2, 2))\n",
    "    x = conv2d_maxpool(x, 32, (3, 3), (2, 2), (2, 2), (2, 2))\n",
    "    x = conv2d_maxpool(x, 64, (3, 3), (1, 1), (2, 2), (2, 2))\n",
    "\n",
    "    # TODO: Apply a Flatten Layer\n",
    "    # Function Definition from Above:\n",
    "    #   flatten(x_tensor)\n",
    "    x = flatten(x)\n",
    "    \n",
    "\n",
    "    # TODO: Apply 1, 2, or 3 Fully Connected Layers\n",
    "    #    Play around with different number of outputs\n",
    "    # Function Definition from Above:\n",
    "    #   fully_conn(x_tensor, num_outputs)\n",
    "    x = fully_conn(x, 512)\n",
    "    x = tf.nn.dropout(x, keep_prob)\n",
    "    x = fully_conn(x, 128)\n",
    "    x = tf.nn.dropout(x, keep_prob)\n",
    "    \n",
    "    \n",
    "    # TODO: Apply an Output Layer\n",
    "    #    Set this to the number of classes\n",
    "    # Function Definition from Above:\n",
    "    #   output(x_tensor, num_outputs)\n",
    "    out = output(x, 10)\n",
    "    \n",
    "    \n",
    "    # TODO: return output\n",
    "    return out\n",
    "\n",
    "\n",
    "\"\"\"\n",
    "DON'T MODIFY ANYTHING IN THIS CELL THAT IS BELOW THIS LINE\n",
    "\"\"\"\n",
    "\n",
    "##############################\n",
    "## Build the Neural Network ##\n",
    "##############################\n",
    "\n",
    "# Remove previous weights, bias, inputs, etc..\n",
    "tf.reset_default_graph()\n",
    "\n",
    "# Inputs\n",
    "x = neural_net_image_input((32, 32, 3))\n",
    "y = neural_net_label_input(10)\n",
    "keep_prob = neural_net_keep_prob_input()\n",
    "\n",
    "# Model\n",
    "logits = conv_net(x, keep_prob)\n",
    "\n",
    "# Name logits Tensor, so that is can be loaded from disk after training\n",
    "logits = tf.identity(logits, name='logits')\n",
    "\n",
    "# Loss and Optimizer\n",
    "cost = tf.reduce_mean(tf.nn.softmax_cross_entropy_with_logits(logits=logits, labels=y))\n",
    "optimizer = tf.train.AdamOptimizer().minimize(cost)\n",
    "\n",
    "# Accuracy\n",
    "correct_pred = tf.equal(tf.argmax(logits, 1), tf.argmax(y, 1))\n",
    "accuracy = tf.reduce_mean(tf.cast(correct_pred, tf.float32), name='accuracy')\n",
    "\n",
    "tests.test_conv_net(conv_net)"
   ]
  },
  {
   "cell_type": "markdown",
   "metadata": {
    "deletable": true,
    "editable": true
   },
   "source": [
    "## Train the Neural Network\n",
    "### Single Optimization\n",
    "Implement the function `train_neural_network` to do a single optimization.  The optimization should use `optimizer` to optimize in `session` with a `feed_dict` of the following:\n",
    "* `x` for image input\n",
    "* `y` for labels\n",
    "* `keep_prob` for keep probability for dropout\n",
    "\n",
    "This function will be called for each batch, so `tf.global_variables_initializer()` has already been called.\n",
    "\n",
    "Note: Nothing needs to be returned. This function is only optimizing the neural network."
   ]
  },
  {
   "cell_type": "code",
   "execution_count": 13,
   "metadata": {
    "collapsed": false,
    "deletable": true,
    "editable": true
   },
   "outputs": [
    {
     "name": "stdout",
     "output_type": "stream",
     "text": [
      "Tests Passed\n"
     ]
    }
   ],
   "source": [
    "def train_neural_network(session, optimizer, keep_probability, feature_batch, label_batch):\n",
    "    \"\"\"\n",
    "    Optimize the session on a batch of images and labels\n",
    "    : session: Current TensorFlow session\n",
    "    : optimizer: TensorFlow optimizer function\n",
    "    : keep_probability: keep probability\n",
    "    : feature_batch: Batch of Numpy image data\n",
    "    : label_batch: Batch of Numpy label data\n",
    "    \"\"\"\n",
    "    # TODO: Implement Function\n",
    "    session.run(optimizer, feed_dict={\n",
    "        x: feature_batch,\n",
    "        y: label_batch,\n",
    "        keep_prob: keep_probability\n",
    "    })\n",
    "\n",
    "\n",
    "\"\"\"\n",
    "DON'T MODIFY ANYTHING IN THIS CELL THAT IS BELOW THIS LINE\n",
    "\"\"\"\n",
    "tests.test_train_nn(train_neural_network)"
   ]
  },
  {
   "cell_type": "markdown",
   "metadata": {
    "deletable": true,
    "editable": true
   },
   "source": [
    "### Show Stats\n",
    "Implement the function `print_stats` to print loss and validation accuracy.  Use the global variables `valid_features` and `valid_labels` to calculate validation accuracy.  Use a keep probability of `1.0` to calculate the loss and validation accuracy."
   ]
  },
  {
   "cell_type": "code",
   "execution_count": 14,
   "metadata": {
    "collapsed": false,
    "deletable": true,
    "editable": true
   },
   "outputs": [],
   "source": [
    "def print_stats(session, feature_batch, label_batch, cost, accuracy):\n",
    "    \"\"\"\n",
    "    Print information about loss and validation accuracy\n",
    "    : session: Current TensorFlow session\n",
    "    : feature_batch: Batch of Numpy image data\n",
    "    : label_batch: Batch of Numpy label data\n",
    "    : cost: TensorFlow cost function\n",
    "    : accuracy: TensorFlow accuracy function\n",
    "    \"\"\"\n",
    "    # TODO: Implement Function\n",
    "    loss = session.run(cost, feed_dict={\n",
    "        x: feature_batch,\n",
    "        y: label_batch,\n",
    "        keep_prob: 1.\n",
    "    })\n",
    "    \n",
    "    valid_accuracy = session.run(accuracy, feed_dict={\n",
    "        x: valid_features,\n",
    "        y: valid_labels,\n",
    "        keep_prob: 1.\n",
    "    })\n",
    "\n",
    "    print('Loss: {:>10.4f} Validation Accuracy: {:.6f}'.format(loss, valid_accuracy))"
   ]
  },
  {
   "cell_type": "markdown",
   "metadata": {
    "deletable": true,
    "editable": true
   },
   "source": [
    "### Hyperparameters\n",
    "Tune the following parameters:\n",
    "* Set `epochs` to the number of iterations until the network stops learning or start overfitting\n",
    "* Set `batch_size` to the highest number that your machine has memory for.  Most people set them to common sizes of memory:\n",
    " * 64\n",
    " * 128\n",
    " * 256\n",
    " * ...\n",
    "* Set `keep_probability` to the probability of keeping a node using dropout"
   ]
  },
  {
   "cell_type": "code",
   "execution_count": 18,
   "metadata": {
    "collapsed": true,
    "deletable": true,
    "editable": true
   },
   "outputs": [],
   "source": [
    "# TODO: Tune Parameters\n",
    "epochs = 40\n",
    "batch_size = 128\n",
    "keep_probability = 0.5"
   ]
  },
  {
   "cell_type": "markdown",
   "metadata": {
    "deletable": true,
    "editable": true
   },
   "source": [
    "### Train on a Single CIFAR-10 Batch\n",
    "Instead of training the neural network on all the CIFAR-10 batches of data, let's use a single batch. This should save time while you iterate on the model to get a better accuracy.  Once the final validation accuracy is 50% or greater, run the model on all the data in the next section."
   ]
  },
  {
   "cell_type": "code",
   "execution_count": 19,
   "metadata": {
    "collapsed": false,
    "deletable": true,
    "editable": true
   },
   "outputs": [
    {
     "name": "stdout",
     "output_type": "stream",
     "text": [
      "Checking the Training on a Single Batch...\n",
      "Epoch  1, CIFAR-10 Batch 1:  Loss:     2.2011 Validation Accuracy: 0.224600\n",
      "Epoch  2, CIFAR-10 Batch 1:  Loss:     2.0757 Validation Accuracy: 0.350800\n",
      "Epoch  3, CIFAR-10 Batch 1:  Loss:     1.9681 Validation Accuracy: 0.376600\n",
      "Epoch  4, CIFAR-10 Batch 1:  Loss:     1.7998 Validation Accuracy: 0.418400\n",
      "Epoch  5, CIFAR-10 Batch 1:  Loss:     1.6806 Validation Accuracy: 0.440200\n",
      "Epoch  6, CIFAR-10 Batch 1:  Loss:     1.6008 Validation Accuracy: 0.459200\n",
      "Epoch  7, CIFAR-10 Batch 1:  Loss:     1.5054 Validation Accuracy: 0.472600\n",
      "Epoch  8, CIFAR-10 Batch 1:  Loss:     1.3644 Validation Accuracy: 0.483200\n",
      "Epoch  9, CIFAR-10 Batch 1:  Loss:     1.1940 Validation Accuracy: 0.496200\n",
      "Epoch 10, CIFAR-10 Batch 1:  Loss:     1.1146 Validation Accuracy: 0.493600\n",
      "Epoch 11, CIFAR-10 Batch 1:  Loss:     0.9955 Validation Accuracy: 0.505600\n",
      "Epoch 12, CIFAR-10 Batch 1:  Loss:     0.9378 Validation Accuracy: 0.509400\n",
      "Epoch 13, CIFAR-10 Batch 1:  Loss:     0.8693 Validation Accuracy: 0.494000\n",
      "Epoch 14, CIFAR-10 Batch 1:  Loss:     0.8232 Validation Accuracy: 0.506800\n",
      "Epoch 15, CIFAR-10 Batch 1:  Loss:     0.7503 Validation Accuracy: 0.510800\n",
      "Epoch 16, CIFAR-10 Batch 1:  Loss:     0.6958 Validation Accuracy: 0.504000\n",
      "Epoch 17, CIFAR-10 Batch 1:  Loss:     0.6357 Validation Accuracy: 0.506400\n",
      "Epoch 18, CIFAR-10 Batch 1:  Loss:     0.5698 Validation Accuracy: 0.535200\n",
      "Epoch 19, CIFAR-10 Batch 1:  Loss:     0.5445 Validation Accuracy: 0.536800\n",
      "Epoch 20, CIFAR-10 Batch 1:  Loss:     0.5121 Validation Accuracy: 0.541200\n",
      "Epoch 21, CIFAR-10 Batch 1:  Loss:     0.4540 Validation Accuracy: 0.540800\n",
      "Epoch 22, CIFAR-10 Batch 1:  Loss:     0.4197 Validation Accuracy: 0.530600\n",
      "Epoch 23, CIFAR-10 Batch 1:  Loss:     0.3821 Validation Accuracy: 0.518600\n",
      "Epoch 24, CIFAR-10 Batch 1:  Loss:     0.3525 Validation Accuracy: 0.519000\n",
      "Epoch 25, CIFAR-10 Batch 1:  Loss:     0.3179 Validation Accuracy: 0.521600\n",
      "Epoch 26, CIFAR-10 Batch 1:  Loss:     0.3049 Validation Accuracy: 0.525800\n",
      "Epoch 27, CIFAR-10 Batch 1:  Loss:     0.3000 Validation Accuracy: 0.519800\n",
      "Epoch 28, CIFAR-10 Batch 1:  Loss:     0.3286 Validation Accuracy: 0.526600\n",
      "Epoch 29, CIFAR-10 Batch 1:  Loss:     0.2568 Validation Accuracy: 0.539600\n",
      "Epoch 30, CIFAR-10 Batch 1:  Loss:     0.2383 Validation Accuracy: 0.540600\n",
      "Epoch 31, CIFAR-10 Batch 1:  Loss:     0.2153 Validation Accuracy: 0.544800\n",
      "Epoch 32, CIFAR-10 Batch 1:  Loss:     0.2208 Validation Accuracy: 0.536000\n",
      "Epoch 33, CIFAR-10 Batch 1:  Loss:     0.1904 Validation Accuracy: 0.534200\n",
      "Epoch 34, CIFAR-10 Batch 1:  Loss:     0.1819 Validation Accuracy: 0.530000\n",
      "Epoch 35, CIFAR-10 Batch 1:  Loss:     0.1952 Validation Accuracy: 0.517600\n",
      "Epoch 36, CIFAR-10 Batch 1:  Loss:     0.2754 Validation Accuracy: 0.513000\n",
      "Epoch 37, CIFAR-10 Batch 1:  Loss:     0.2315 Validation Accuracy: 0.507200\n",
      "Epoch 38, CIFAR-10 Batch 1:  Loss:     0.1770 Validation Accuracy: 0.503600\n",
      "Epoch 39, CIFAR-10 Batch 1:  Loss:     0.1360 Validation Accuracy: 0.512800\n",
      "Epoch 40, CIFAR-10 Batch 1:  Loss:     0.1512 Validation Accuracy: 0.510600\n"
     ]
    }
   ],
   "source": [
    "\"\"\"\n",
    "DON'T MODIFY ANYTHING IN THIS CELL\n",
    "\"\"\"\n",
    "print('Checking the Training on a Single Batch...')\n",
    "with tf.Session() as sess:\n",
    "    # Initializing the variables\n",
    "    sess.run(tf.global_variables_initializer())\n",
    "    \n",
    "    # Training cycle\n",
    "    for epoch in range(epochs):\n",
    "        batch_i = 1\n",
    "        for batch_features, batch_labels in helper.load_preprocess_training_batch(batch_i, batch_size):\n",
    "            train_neural_network(sess, optimizer, keep_probability, batch_features, batch_labels)\n",
    "        print('Epoch {:>2}, CIFAR-10 Batch {}:  '.format(epoch + 1, batch_i), end='')\n",
    "        print_stats(sess, batch_features, batch_labels, cost, accuracy)"
   ]
  },
  {
   "cell_type": "markdown",
   "metadata": {
    "deletable": true,
    "editable": true
   },
   "source": [
    "### Fully Train the Model\n",
    "Now that you got a good accuracy with a single CIFAR-10 batch, try it with all five batches."
   ]
  },
  {
   "cell_type": "code",
   "execution_count": 20,
   "metadata": {
    "collapsed": false,
    "deletable": true,
    "editable": true
   },
   "outputs": [
    {
     "name": "stdout",
     "output_type": "stream",
     "text": [
      "Training...\n",
      "Epoch  1, CIFAR-10 Batch 1:  Loss:     2.0930 Validation Accuracy: 0.296600\n",
      "Epoch  1, CIFAR-10 Batch 2:  Loss:     1.8241 Validation Accuracy: 0.372800\n",
      "Epoch  1, CIFAR-10 Batch 3:  Loss:     1.5060 Validation Accuracy: 0.389600\n",
      "Epoch  1, CIFAR-10 Batch 4:  Loss:     1.5345 Validation Accuracy: 0.428000\n",
      "Epoch  1, CIFAR-10 Batch 5:  Loss:     1.5756 Validation Accuracy: 0.451000\n",
      "Epoch  2, CIFAR-10 Batch 1:  Loss:     1.5903 Validation Accuracy: 0.464000\n",
      "Epoch  2, CIFAR-10 Batch 2:  Loss:     1.5789 Validation Accuracy: 0.473800\n",
      "Epoch  2, CIFAR-10 Batch 3:  Loss:     1.2028 Validation Accuracy: 0.499600\n",
      "Epoch  2, CIFAR-10 Batch 4:  Loss:     1.3489 Validation Accuracy: 0.494400\n",
      "Epoch  2, CIFAR-10 Batch 5:  Loss:     1.4173 Validation Accuracy: 0.527400\n",
      "Epoch  3, CIFAR-10 Batch 1:  Loss:     1.3329 Validation Accuracy: 0.530400\n",
      "Epoch  3, CIFAR-10 Batch 2:  Loss:     1.3012 Validation Accuracy: 0.524400\n",
      "Epoch  3, CIFAR-10 Batch 3:  Loss:     1.0205 Validation Accuracy: 0.538400\n",
      "Epoch  3, CIFAR-10 Batch 4:  Loss:     1.1308 Validation Accuracy: 0.543200\n",
      "Epoch  3, CIFAR-10 Batch 5:  Loss:     1.1525 Validation Accuracy: 0.567200\n",
      "Epoch  4, CIFAR-10 Batch 1:  Loss:     1.2961 Validation Accuracy: 0.555200\n",
      "Epoch  4, CIFAR-10 Batch 2:  Loss:     1.1264 Validation Accuracy: 0.565400\n",
      "Epoch  4, CIFAR-10 Batch 3:  Loss:     0.9290 Validation Accuracy: 0.567400\n",
      "Epoch  4, CIFAR-10 Batch 4:  Loss:     1.0078 Validation Accuracy: 0.575000\n",
      "Epoch  4, CIFAR-10 Batch 5:  Loss:     1.0658 Validation Accuracy: 0.584800\n",
      "Epoch  5, CIFAR-10 Batch 1:  Loss:     1.1138 Validation Accuracy: 0.586000\n",
      "Epoch  5, CIFAR-10 Batch 2:  Loss:     1.0455 Validation Accuracy: 0.593600\n",
      "Epoch  5, CIFAR-10 Batch 3:  Loss:     0.8010 Validation Accuracy: 0.605600\n",
      "Epoch  5, CIFAR-10 Batch 4:  Loss:     0.9568 Validation Accuracy: 0.586200\n",
      "Epoch  5, CIFAR-10 Batch 5:  Loss:     0.9315 Validation Accuracy: 0.609600\n",
      "Epoch  6, CIFAR-10 Batch 1:  Loss:     0.9914 Validation Accuracy: 0.600400\n",
      "Epoch  6, CIFAR-10 Batch 2:  Loss:     0.8948 Validation Accuracy: 0.623200\n",
      "Epoch  6, CIFAR-10 Batch 3:  Loss:     0.7293 Validation Accuracy: 0.625200\n",
      "Epoch  6, CIFAR-10 Batch 4:  Loss:     0.8766 Validation Accuracy: 0.620400\n",
      "Epoch  6, CIFAR-10 Batch 5:  Loss:     0.8085 Validation Accuracy: 0.621600\n",
      "Epoch  7, CIFAR-10 Batch 1:  Loss:     0.9209 Validation Accuracy: 0.615600\n",
      "Epoch  7, CIFAR-10 Batch 2:  Loss:     0.8239 Validation Accuracy: 0.640400\n",
      "Epoch  7, CIFAR-10 Batch 3:  Loss:     0.6156 Validation Accuracy: 0.641600\n",
      "Epoch  7, CIFAR-10 Batch 4:  Loss:     0.8248 Validation Accuracy: 0.631800\n",
      "Epoch  7, CIFAR-10 Batch 5:  Loss:     0.7924 Validation Accuracy: 0.640600\n",
      "Epoch  8, CIFAR-10 Batch 1:  Loss:     0.8819 Validation Accuracy: 0.641200\n",
      "Epoch  8, CIFAR-10 Batch 2:  Loss:     0.6937 Validation Accuracy: 0.649000\n",
      "Epoch  8, CIFAR-10 Batch 3:  Loss:     0.5382 Validation Accuracy: 0.650800\n",
      "Epoch  8, CIFAR-10 Batch 4:  Loss:     0.7193 Validation Accuracy: 0.647800\n",
      "Epoch  8, CIFAR-10 Batch 5:  Loss:     0.6431 Validation Accuracy: 0.636000\n",
      "Epoch  9, CIFAR-10 Batch 1:  Loss:     0.8101 Validation Accuracy: 0.636400\n",
      "Epoch  9, CIFAR-10 Batch 2:  Loss:     0.6428 Validation Accuracy: 0.656600\n",
      "Epoch  9, CIFAR-10 Batch 3:  Loss:     0.5107 Validation Accuracy: 0.649800\n",
      "Epoch  9, CIFAR-10 Batch 4:  Loss:     0.6457 Validation Accuracy: 0.658000\n",
      "Epoch  9, CIFAR-10 Batch 5:  Loss:     0.6102 Validation Accuracy: 0.649600\n",
      "Epoch 10, CIFAR-10 Batch 1:  Loss:     0.7113 Validation Accuracy: 0.652200\n",
      "Epoch 10, CIFAR-10 Batch 2:  Loss:     0.6180 Validation Accuracy: 0.657600\n",
      "Epoch 10, CIFAR-10 Batch 3:  Loss:     0.4632 Validation Accuracy: 0.654800\n",
      "Epoch 10, CIFAR-10 Batch 4:  Loss:     0.6035 Validation Accuracy: 0.660200\n",
      "Epoch 10, CIFAR-10 Batch 5:  Loss:     0.5408 Validation Accuracy: 0.644200\n",
      "Epoch 11, CIFAR-10 Batch 1:  Loss:     0.6687 Validation Accuracy: 0.666000\n",
      "Epoch 11, CIFAR-10 Batch 2:  Loss:     0.5182 Validation Accuracy: 0.665800\n",
      "Epoch 11, CIFAR-10 Batch 3:  Loss:     0.4118 Validation Accuracy: 0.668800\n",
      "Epoch 11, CIFAR-10 Batch 4:  Loss:     0.5580 Validation Accuracy: 0.664800\n",
      "Epoch 11, CIFAR-10 Batch 5:  Loss:     0.4843 Validation Accuracy: 0.665400\n",
      "Epoch 12, CIFAR-10 Batch 1:  Loss:     0.5903 Validation Accuracy: 0.665800\n",
      "Epoch 12, CIFAR-10 Batch 2:  Loss:     0.4800 Validation Accuracy: 0.668600\n",
      "Epoch 12, CIFAR-10 Batch 3:  Loss:     0.4505 Validation Accuracy: 0.672200\n",
      "Epoch 12, CIFAR-10 Batch 4:  Loss:     0.5186 Validation Accuracy: 0.672600\n",
      "Epoch 12, CIFAR-10 Batch 5:  Loss:     0.4393 Validation Accuracy: 0.657000\n",
      "Epoch 13, CIFAR-10 Batch 1:  Loss:     0.5720 Validation Accuracy: 0.675000\n",
      "Epoch 13, CIFAR-10 Batch 2:  Loss:     0.4444 Validation Accuracy: 0.671600\n",
      "Epoch 13, CIFAR-10 Batch 3:  Loss:     0.3962 Validation Accuracy: 0.670600\n",
      "Epoch 13, CIFAR-10 Batch 4:  Loss:     0.4826 Validation Accuracy: 0.675400\n",
      "Epoch 13, CIFAR-10 Batch 5:  Loss:     0.4774 Validation Accuracy: 0.651600\n",
      "Epoch 14, CIFAR-10 Batch 1:  Loss:     0.5299 Validation Accuracy: 0.672800\n",
      "Epoch 14, CIFAR-10 Batch 2:  Loss:     0.4291 Validation Accuracy: 0.682200\n",
      "Epoch 14, CIFAR-10 Batch 3:  Loss:     0.3241 Validation Accuracy: 0.684800\n",
      "Epoch 14, CIFAR-10 Batch 4:  Loss:     0.3943 Validation Accuracy: 0.674400\n",
      "Epoch 14, CIFAR-10 Batch 5:  Loss:     0.3737 Validation Accuracy: 0.648800\n",
      "Epoch 15, CIFAR-10 Batch 1:  Loss:     0.5106 Validation Accuracy: 0.678400\n",
      "Epoch 15, CIFAR-10 Batch 2:  Loss:     0.4177 Validation Accuracy: 0.664600\n",
      "Epoch 15, CIFAR-10 Batch 3:  Loss:     0.2999 Validation Accuracy: 0.678800\n",
      "Epoch 15, CIFAR-10 Batch 4:  Loss:     0.4277 Validation Accuracy: 0.675200\n",
      "Epoch 15, CIFAR-10 Batch 5:  Loss:     0.3639 Validation Accuracy: 0.661000\n",
      "Epoch 16, CIFAR-10 Batch 1:  Loss:     0.3963 Validation Accuracy: 0.674200\n",
      "Epoch 16, CIFAR-10 Batch 2:  Loss:     0.3877 Validation Accuracy: 0.678600\n",
      "Epoch 16, CIFAR-10 Batch 3:  Loss:     0.2696 Validation Accuracy: 0.681400\n",
      "Epoch 16, CIFAR-10 Batch 4:  Loss:     0.4032 Validation Accuracy: 0.679800\n",
      "Epoch 16, CIFAR-10 Batch 5:  Loss:     0.3225 Validation Accuracy: 0.657000\n",
      "Epoch 17, CIFAR-10 Batch 1:  Loss:     0.4148 Validation Accuracy: 0.682200\n",
      "Epoch 17, CIFAR-10 Batch 2:  Loss:     0.3679 Validation Accuracy: 0.683400\n",
      "Epoch 17, CIFAR-10 Batch 3:  Loss:     0.2610 Validation Accuracy: 0.677600\n",
      "Epoch 17, CIFAR-10 Batch 4:  Loss:     0.3396 Validation Accuracy: 0.687200\n",
      "Epoch 17, CIFAR-10 Batch 5:  Loss:     0.3304 Validation Accuracy: 0.666000\n",
      "Epoch 18, CIFAR-10 Batch 1:  Loss:     0.3821 Validation Accuracy: 0.683400\n",
      "Epoch 18, CIFAR-10 Batch 2:  Loss:     0.3201 Validation Accuracy: 0.692200\n",
      "Epoch 18, CIFAR-10 Batch 3:  Loss:     0.1997 Validation Accuracy: 0.692400\n",
      "Epoch 18, CIFAR-10 Batch 4:  Loss:     0.3006 Validation Accuracy: 0.692400\n",
      "Epoch 18, CIFAR-10 Batch 5:  Loss:     0.3163 Validation Accuracy: 0.651600\n",
      "Epoch 19, CIFAR-10 Batch 1:  Loss:     0.3749 Validation Accuracy: 0.663200\n",
      "Epoch 19, CIFAR-10 Batch 2:  Loss:     0.3261 Validation Accuracy: 0.677600\n",
      "Epoch 19, CIFAR-10 Batch 3:  Loss:     0.1846 Validation Accuracy: 0.687000\n",
      "Epoch 19, CIFAR-10 Batch 4:  Loss:     0.2905 Validation Accuracy: 0.687600\n",
      "Epoch 19, CIFAR-10 Batch 5:  Loss:     0.2320 Validation Accuracy: 0.663400\n",
      "Epoch 20, CIFAR-10 Batch 1:  Loss:     0.3152 Validation Accuracy: 0.681600\n",
      "Epoch 20, CIFAR-10 Batch 2:  Loss:     0.3143 Validation Accuracy: 0.679400\n",
      "Epoch 20, CIFAR-10 Batch 3:  Loss:     0.1739 Validation Accuracy: 0.691600\n",
      "Epoch 20, CIFAR-10 Batch 4:  Loss:     0.2779 Validation Accuracy: 0.687800\n",
      "Epoch 20, CIFAR-10 Batch 5:  Loss:     0.2580 Validation Accuracy: 0.674000\n",
      "Epoch 21, CIFAR-10 Batch 1:  Loss:     0.3262 Validation Accuracy: 0.680400\n",
      "Epoch 21, CIFAR-10 Batch 2:  Loss:     0.2889 Validation Accuracy: 0.679600\n",
      "Epoch 21, CIFAR-10 Batch 3:  Loss:     0.1389 Validation Accuracy: 0.696800\n",
      "Epoch 21, CIFAR-10 Batch 4:  Loss:     0.2574 Validation Accuracy: 0.677400\n",
      "Epoch 21, CIFAR-10 Batch 5:  Loss:     0.2575 Validation Accuracy: 0.670400\n",
      "Epoch 22, CIFAR-10 Batch 1:  Loss:     0.3255 Validation Accuracy: 0.675800\n",
      "Epoch 22, CIFAR-10 Batch 2:  Loss:     0.2824 Validation Accuracy: 0.685600\n",
      "Epoch 22, CIFAR-10 Batch 3:  Loss:     0.2200 Validation Accuracy: 0.679800\n",
      "Epoch 22, CIFAR-10 Batch 4:  Loss:     0.2490 Validation Accuracy: 0.685800\n",
      "Epoch 22, CIFAR-10 Batch 5:  Loss:     0.2681 Validation Accuracy: 0.657200\n",
      "Epoch 23, CIFAR-10 Batch 1:  Loss:     0.2895 Validation Accuracy: 0.672800\n",
      "Epoch 23, CIFAR-10 Batch 2:  Loss:     0.3368 Validation Accuracy: 0.680200\n",
      "Epoch 23, CIFAR-10 Batch 3:  Loss:     0.1423 Validation Accuracy: 0.693200\n",
      "Epoch 23, CIFAR-10 Batch 4:  Loss:     0.2032 Validation Accuracy: 0.693400\n",
      "Epoch 23, CIFAR-10 Batch 5:  Loss:     0.2100 Validation Accuracy: 0.679600\n",
      "Epoch 24, CIFAR-10 Batch 1:  Loss:     0.3143 Validation Accuracy: 0.678800\n",
      "Epoch 24, CIFAR-10 Batch 2:  Loss:     0.2832 Validation Accuracy: 0.678400\n",
      "Epoch 24, CIFAR-10 Batch 3:  Loss:     0.1382 Validation Accuracy: 0.685200\n",
      "Epoch 24, CIFAR-10 Batch 4:  Loss:     0.2413 Validation Accuracy: 0.684800\n",
      "Epoch 24, CIFAR-10 Batch 5:  Loss:     0.2153 Validation Accuracy: 0.676800\n",
      "Epoch 25, CIFAR-10 Batch 1:  Loss:     0.2591 Validation Accuracy: 0.676800\n",
      "Epoch 25, CIFAR-10 Batch 2:  Loss:     0.3567 Validation Accuracy: 0.678200\n",
      "Epoch 25, CIFAR-10 Batch 3:  Loss:     0.1513 Validation Accuracy: 0.685800\n",
      "Epoch 25, CIFAR-10 Batch 4:  Loss:     0.2475 Validation Accuracy: 0.679600\n",
      "Epoch 25, CIFAR-10 Batch 5:  Loss:     0.2095 Validation Accuracy: 0.687400\n",
      "Epoch 26, CIFAR-10 Batch 1:  Loss:     0.2395 Validation Accuracy: 0.688800\n",
      "Epoch 26, CIFAR-10 Batch 2:  Loss:     0.2462 Validation Accuracy: 0.679600\n",
      "Epoch 26, CIFAR-10 Batch 3:  Loss:     0.1078 Validation Accuracy: 0.681600\n",
      "Epoch 26, CIFAR-10 Batch 4:  Loss:     0.2045 Validation Accuracy: 0.679400\n",
      "Epoch 26, CIFAR-10 Batch 5:  Loss:     0.2014 Validation Accuracy: 0.687200\n",
      "Epoch 27, CIFAR-10 Batch 1:  Loss:     0.2192 Validation Accuracy: 0.688000\n",
      "Epoch 27, CIFAR-10 Batch 2:  Loss:     0.2133 Validation Accuracy: 0.684400\n",
      "Epoch 27, CIFAR-10 Batch 3:  Loss:     0.1291 Validation Accuracy: 0.689800\n",
      "Epoch 27, CIFAR-10 Batch 4:  Loss:     0.2315 Validation Accuracy: 0.672800\n",
      "Epoch 27, CIFAR-10 Batch 5:  Loss:     0.1964 Validation Accuracy: 0.683400\n",
      "Epoch 28, CIFAR-10 Batch 1:  Loss:     0.2295 Validation Accuracy: 0.668000\n",
      "Epoch 28, CIFAR-10 Batch 2:  Loss:     0.2681 Validation Accuracy: 0.679200\n",
      "Epoch 28, CIFAR-10 Batch 3:  Loss:     0.1302 Validation Accuracy: 0.693400\n",
      "Epoch 28, CIFAR-10 Batch 4:  Loss:     0.1946 Validation Accuracy: 0.683400\n",
      "Epoch 28, CIFAR-10 Batch 5:  Loss:     0.1959 Validation Accuracy: 0.688800\n",
      "Epoch 29, CIFAR-10 Batch 1:  Loss:     0.2240 Validation Accuracy: 0.680800\n",
      "Epoch 29, CIFAR-10 Batch 2:  Loss:     0.2332 Validation Accuracy: 0.682800\n",
      "Epoch 29, CIFAR-10 Batch 3:  Loss:     0.1135 Validation Accuracy: 0.689200\n",
      "Epoch 29, CIFAR-10 Batch 4:  Loss:     0.2006 Validation Accuracy: 0.685000\n",
      "Epoch 29, CIFAR-10 Batch 5:  Loss:     0.1604 Validation Accuracy: 0.692600\n",
      "Epoch 30, CIFAR-10 Batch 1:  Loss:     0.2204 Validation Accuracy: 0.676400\n",
      "Epoch 30, CIFAR-10 Batch 2:  Loss:     0.2229 Validation Accuracy: 0.680200\n",
      "Epoch 30, CIFAR-10 Batch 3:  Loss:     0.0973 Validation Accuracy: 0.681800\n",
      "Epoch 30, CIFAR-10 Batch 4:  Loss:     0.1957 Validation Accuracy: 0.682000\n",
      "Epoch 30, CIFAR-10 Batch 5:  Loss:     0.1438 Validation Accuracy: 0.696400\n",
      "Epoch 31, CIFAR-10 Batch 1:  Loss:     0.1791 Validation Accuracy: 0.690200\n",
      "Epoch 31, CIFAR-10 Batch 2:  Loss:     0.1865 Validation Accuracy: 0.694200\n",
      "Epoch 31, CIFAR-10 Batch 3:  Loss:     0.1069 Validation Accuracy: 0.686000\n",
      "Epoch 31, CIFAR-10 Batch 4:  Loss:     0.1676 Validation Accuracy: 0.701400\n",
      "Epoch 31, CIFAR-10 Batch 5:  Loss:     0.1528 Validation Accuracy: 0.684000\n",
      "Epoch 32, CIFAR-10 Batch 1:  Loss:     0.1830 Validation Accuracy: 0.682600\n",
      "Epoch 32, CIFAR-10 Batch 2:  Loss:     0.2097 Validation Accuracy: 0.697000\n",
      "Epoch 32, CIFAR-10 Batch 3:  Loss:     0.1396 Validation Accuracy: 0.679600\n",
      "Epoch 32, CIFAR-10 Batch 4:  Loss:     0.1608 Validation Accuracy: 0.683000\n",
      "Epoch 32, CIFAR-10 Batch 5:  Loss:     0.1389 Validation Accuracy: 0.698000\n",
      "Epoch 33, CIFAR-10 Batch 1:  Loss:     0.1908 Validation Accuracy: 0.687400\n",
      "Epoch 33, CIFAR-10 Batch 2:  Loss:     0.1894 Validation Accuracy: 0.696400\n",
      "Epoch 33, CIFAR-10 Batch 3:  Loss:     0.0978 Validation Accuracy: 0.683600\n",
      "Epoch 33, CIFAR-10 Batch 4:  Loss:     0.1345 Validation Accuracy: 0.689800\n",
      "Epoch 33, CIFAR-10 Batch 5:  Loss:     0.1501 Validation Accuracy: 0.692400\n",
      "Epoch 34, CIFAR-10 Batch 1:  Loss:     0.1802 Validation Accuracy: 0.683600\n",
      "Epoch 34, CIFAR-10 Batch 2:  Loss:     0.1950 Validation Accuracy: 0.698400\n",
      "Epoch 34, CIFAR-10 Batch 3:  Loss:     0.0976 Validation Accuracy: 0.674000\n",
      "Epoch 34, CIFAR-10 Batch 4:  Loss:     0.1503 Validation Accuracy: 0.688800\n",
      "Epoch 34, CIFAR-10 Batch 5:  Loss:     0.1361 Validation Accuracy: 0.687600\n",
      "Epoch 35, CIFAR-10 Batch 1:  Loss:     0.2017 Validation Accuracy: 0.674800\n",
      "Epoch 35, CIFAR-10 Batch 2:  Loss:     0.1658 Validation Accuracy: 0.694800\n",
      "Epoch 35, CIFAR-10 Batch 3:  Loss:     0.0903 Validation Accuracy: 0.686200\n",
      "Epoch 35, CIFAR-10 Batch 4:  Loss:     0.1425 Validation Accuracy: 0.690800\n",
      "Epoch 35, CIFAR-10 Batch 5:  Loss:     0.1479 Validation Accuracy: 0.688800\n",
      "Epoch 36, CIFAR-10 Batch 1:  Loss:     0.1697 Validation Accuracy: 0.664800\n",
      "Epoch 36, CIFAR-10 Batch 2:  Loss:     0.1695 Validation Accuracy: 0.696000\n",
      "Epoch 36, CIFAR-10 Batch 3:  Loss:     0.0623 Validation Accuracy: 0.695400\n",
      "Epoch 36, CIFAR-10 Batch 4:  Loss:     0.1028 Validation Accuracy: 0.696000\n",
      "Epoch 36, CIFAR-10 Batch 5:  Loss:     0.1420 Validation Accuracy: 0.693800\n",
      "Epoch 37, CIFAR-10 Batch 1:  Loss:     0.2221 Validation Accuracy: 0.671000\n",
      "Epoch 37, CIFAR-10 Batch 2:  Loss:     0.1419 Validation Accuracy: 0.693200\n",
      "Epoch 37, CIFAR-10 Batch 3:  Loss:     0.0680 Validation Accuracy: 0.682400\n",
      "Epoch 37, CIFAR-10 Batch 4:  Loss:     0.1131 Validation Accuracy: 0.694000\n",
      "Epoch 37, CIFAR-10 Batch 5:  Loss:     0.1290 Validation Accuracy: 0.692400\n",
      "Epoch 38, CIFAR-10 Batch 1:  Loss:     0.1483 Validation Accuracy: 0.676000\n",
      "Epoch 38, CIFAR-10 Batch 2:  Loss:     0.1527 Validation Accuracy: 0.688000\n",
      "Epoch 38, CIFAR-10 Batch 3:  Loss:     0.0885 Validation Accuracy: 0.681200\n",
      "Epoch 38, CIFAR-10 Batch 4:  Loss:     0.1198 Validation Accuracy: 0.687200\n",
      "Epoch 38, CIFAR-10 Batch 5:  Loss:     0.1531 Validation Accuracy: 0.687000\n",
      "Epoch 39, CIFAR-10 Batch 1:  Loss:     0.1186 Validation Accuracy: 0.678400\n",
      "Epoch 39, CIFAR-10 Batch 2:  Loss:     0.1450 Validation Accuracy: 0.695400\n",
      "Epoch 39, CIFAR-10 Batch 3:  Loss:     0.0840 Validation Accuracy: 0.686200\n",
      "Epoch 39, CIFAR-10 Batch 4:  Loss:     0.1046 Validation Accuracy: 0.692600\n",
      "Epoch 39, CIFAR-10 Batch 5:  Loss:     0.1119 Validation Accuracy: 0.686400\n",
      "Epoch 40, CIFAR-10 Batch 1:  Loss:     0.2083 Validation Accuracy: 0.664000\n",
      "Epoch 40, CIFAR-10 Batch 2:  Loss:     0.1314 Validation Accuracy: 0.690800\n",
      "Epoch 40, CIFAR-10 Batch 3:  Loss:     0.0844 Validation Accuracy: 0.686000\n",
      "Epoch 40, CIFAR-10 Batch 4:  Loss:     0.0944 Validation Accuracy: 0.701400\n",
      "Epoch 40, CIFAR-10 Batch 5:  Loss:     0.0992 Validation Accuracy: 0.692600\n"
     ]
    }
   ],
   "source": [
    "\"\"\"\n",
    "DON'T MODIFY ANYTHING IN THIS CELL\n",
    "\"\"\"\n",
    "save_model_path = './image_classification'\n",
    "\n",
    "print('Training...')\n",
    "with tf.Session() as sess:\n",
    "    # Initializing the variables\n",
    "    sess.run(tf.global_variables_initializer())\n",
    "    \n",
    "    # Training cycle\n",
    "    for epoch in range(epochs):\n",
    "        # Loop over all batches\n",
    "        n_batches = 5\n",
    "        for batch_i in range(1, n_batches + 1):\n",
    "            for batch_features, batch_labels in helper.load_preprocess_training_batch(batch_i, batch_size):\n",
    "                train_neural_network(sess, optimizer, keep_probability, batch_features, batch_labels)\n",
    "            print('Epoch {:>2}, CIFAR-10 Batch {}:  '.format(epoch + 1, batch_i), end='')\n",
    "            print_stats(sess, batch_features, batch_labels, cost, accuracy)\n",
    "            \n",
    "    # Save Model\n",
    "    saver = tf.train.Saver()\n",
    "    save_path = saver.save(sess, save_model_path)"
   ]
  },
  {
   "cell_type": "markdown",
   "metadata": {
    "deletable": true,
    "editable": true
   },
   "source": [
    "# Checkpoint\n",
    "The model has been saved to disk.\n",
    "## Test Model\n",
    "Test your model against the test dataset.  This will be your final accuracy. You should have an accuracy greater than 50%. If you don't, keep tweaking the model architecture and parameters."
   ]
  },
  {
   "cell_type": "code",
   "execution_count": 21,
   "metadata": {
    "collapsed": false,
    "deletable": true,
    "editable": true
   },
   "outputs": [
    {
     "name": "stdout",
     "output_type": "stream",
     "text": [
      "Testing Accuracy: 0.6896756329113924\n",
      "\n"
     ]
    },
    {
     "data": {
      "image/png": "[encoded data removed]",
      "text/plain": [
       "<matplotlib.figure.Figure at 0x26c0cdb7438>"
      ]
     },
     "metadata": {
      "image/png": {
       "height": 319,
       "width": 355
      }
     },
     "output_type": "display_data"
    }
   ],
   "source": [
    "\"\"\"\n",
    "DON'T MODIFY ANYTHING IN THIS CELL\n",
    "\"\"\"\n",
    "%matplotlib inline\n",
    "%config InlineBackend.figure_format = 'retina'\n",
    "\n",
    "import tensorflow as tf\n",
    "import pickle\n",
    "import helper\n",
    "import random\n",
    "\n",
    "# Set batch size if not already set\n",
    "try:\n",
    "    if batch_size:\n",
    "        pass\n",
    "except NameError:\n",
    "    batch_size = 64\n",
    "\n",
    "save_model_path = './image_classification'\n",
    "n_samples = 4\n",
    "top_n_predictions = 3\n",
    "\n",
    "def test_model():\n",
    "    \"\"\"\n",
    "    Test the saved model against the test dataset\n",
    "    \"\"\"\n",
    "\n",
    "    test_features, test_labels = pickle.load(open('preprocess_training.p', mode='rb'))\n",
    "    loaded_graph = tf.Graph()\n",
    "\n",
    "    with tf.Session(graph=loaded_graph) as sess:\n",
    "        # Load model\n",
    "        loader = tf.train.import_meta_graph(save_model_path + '.meta')\n",
    "        loader.restore(sess, save_model_path)\n",
    "\n",
    "        # Get Tensors from loaded model\n",
    "        loaded_x = loaded_graph.get_tensor_by_name('x:0')\n",
    "        loaded_y = loaded_graph.get_tensor_by_name('y:0')\n",
    "        loaded_keep_prob = loaded_graph.get_tensor_by_name('keep_prob:0')\n",
    "        loaded_logits = loaded_graph.get_tensor_by_name('logits:0')\n",
    "        loaded_acc = loaded_graph.get_tensor_by_name('accuracy:0')\n",
    "        \n",
    "        # Get accuracy in batches for memory limitations\n",
    "        test_batch_acc_total = 0\n",
    "        test_batch_count = 0\n",
    "        \n",
    "        for train_feature_batch, train_label_batch in helper.batch_features_labels(test_features, test_labels, batch_size):\n",
    "            test_batch_acc_total += sess.run(\n",
    "                loaded_acc,\n",
    "                feed_dict={loaded_x: train_feature_batch, loaded_y: train_label_batch, loaded_keep_prob: 1.0})\n",
    "            test_batch_count += 1\n",
    "\n",
    "        print('Testing Accuracy: {}\\n'.format(test_batch_acc_total/test_batch_count))\n",
    "\n",
    "        # Print Random Samples\n",
    "        random_test_features, random_test_labels = tuple(zip(*random.sample(list(zip(test_features, test_labels)), n_samples)))\n",
    "        random_test_predictions = sess.run(\n",
    "            tf.nn.top_k(tf.nn.softmax(loaded_logits), top_n_predictions),\n",
    "            feed_dict={loaded_x: random_test_features, loaded_y: random_test_labels, loaded_keep_prob: 1.0})\n",
    "        helper.display_image_predictions(random_test_features, random_test_labels, random_test_predictions)\n",
    "\n",
    "\n",
    "test_model()"
   ]
  },
  {
   "cell_type": "markdown",
   "metadata": {
    "deletable": true,
    "editable": true
   },
   "source": [
    "## Why 50-70% Accuracy?\n",
    "You might be wondering why you can't get an accuracy any higher. First things first, 50% isn't bad for a simple CNN.  Pure guessing would get you 10% accuracy. However, you might notice people are getting scores [well above 70%](http://rodrigob.github.io/are_we_there_yet/build/classification_datasets_results.html#43494641522d3130).  That's because we haven't taught you all there is to know about neural networks. We still need to cover a few more techniques.\n",
    "## Submitting This Project\n",
    "When submitting this project, make sure to run all the cells before saving the notebook.  Save the notebook file as \"dlnd_image_classification.ipynb\" and save it as a HTML file under \"File\" -> \"Download as\".  Include the \"helper.py\" and \"problem_unittests.py\" files in your submission."
   ]
  }
 ],
 "metadata": {
  "anaconda-cloud": {},
  "kernelspec": {
   "display_name": "Python [default]",
   "language": "python",
   "name": "python3"
  },
  "language_info": {
   "codemirror_mode": {
    "name": "ipython",
    "version": 3
   },
   "file_extension": ".py",
   "mimetype": "text/x-python",
   "name": "python",
   "nbconvert_exporter": "python",
   "pygments_lexer": "ipython3",
   "version": "3.5.3"
  }
 },
 "nbformat": 4,
 "nbformat_minor": 0
}
